<!doctype html>
<html lang="en">
  <head>
    <!-- Required meta tags -->
    <meta charset="utf-8">
    <meta name="viewport" content="width=device-width, initial-scale=1, shrink-to-fit=no">

    <!-- Bootstrap CSS -->
    <link rel="stylesheet" href="https://maxcdn.bootstrapcdn.com/bootstrap/4.0.0/css/bootstrap.min.css" integrity="sha384-Gn5384xqQ1aoWXA+058RXPxPg6fy4IWvTNh0E263XmFcJlSAwiGgFAW/dAiS6JXm" crossorigin="anonymous">

    <title>Animal Recognition API</title>
  </head>
<!--    <body style="background-color:black">-->
    <body>
         <style> body {
            background-image: url('https://j9e9i9g5.rocketcdn.me/wp-content/uploads/2020/08/Kilimanjaro-Moshi-Sunset-Tours.jpg');
            background-position: center;
            background-repeat: no-repeat;
            background-size: 100% 100%;
            border: 2px solid black;
            padding: 100px;
            }
         </style>
         <br>
         <br>
         <div class="container">
             <div class="row">
                <div class="col text-center">
                    <h1 style="color:white;">Animal Recognition</h1>
                </div>
            </div>
            <br>
            <div class="row align-items-end">
                <div class="col text-center">
                    <img height="150" width="150" src="./animal-recognition-website-api/static/bear.jpeg" class="img-thumbnail" />
                    <h5 style="color:white;">Bear</h5>
                </div>
                <div class="col text-center">
                    <img height="150" width="150" src="./animal-recognition-website-api/static/butterfly.jpeg" class="img-thumbnail" />
                    <h5 style="color:white;">Butterfly</h5>
                </div>
                <div class="col text-center">
                    <img height="150" width="150" src="./animal-recognition-website-api/static/cat.jpeg" class="img-thumbnail" />
                    <h5 style="color:white;">Cat</h5>
                </div>
                <div class="col text-center">
                    <img height="150" width="150" src="./animal-recognition-website-api/static/chicken.jpeg" class="img-thumbnail" />
                    <h5 style="color:white;">Chicken</h5>
                </div>
                <div class="col text-center">
                    <img height="150" width="150" src="./animal-recognition-website-api/static/cow.jpeg" class="img-thumbnail" />
                    <h5 style="color:white;">Cow</h5>
                </div>
                <div class="col text-center">
                    <img height="150" width="150" src="./animal-recognition-website-api/static/dog.jpeg" class="img-thumbnail" />
                    <h5 style="color:white;">Dog</h5>
                </div>
            </div>

             <div class="row align-items-end">
                <div class="col text-center">
                    <img height="150" width="150" src="./animal-recognition-website-api/static/elephant.jpeg" class="img-thumbnail" />
                    <h5 style="color:white;">Elephant</h5>
                </div>
                <div class="col text-center">
                    <img height="150" width="150" src="./animal-recognition-website-api/static/horse.jpeg" class="img-thumbnail" />
                    <h5 style="color:white;">Horse</h5>
                </div>
                 <div class="col text-center">
                    <img height="150" width="150" src="./animal-recognition-website-api/static/leopard.jpeg" class="img-thumbnail" />
                    <h5 style="color:white;">Leopard</h5>
                </div>
                <div class="col text-center">
                    <img height="150" width="150" src="./animal-recognition-website-api/static/lion.jpeg" class="img-thumbnail" />
                    <h5 style="color:white;">Lion</h5>
                </div>
                <div class="col text-center">
                    <img height="150" width="150" src="./animal-recognition-website-api/static/panda.jpeg" class="img-thumbnail" />
                    <h5 style="color:white;">Panda</h5>
                </div>
                <div class="col text-center">
                    <img height="150" width="150" src="./animal-recognition-website-api/static/sheep.jpeg" class="img-thumbnail" />
                    <h5 style="color:white;">Sheep</h5>
                </div>
             </div>

             <div class="row align-items-end">
                <div class="col text-center">
                    <img height="150" width="150" src="./animal-recognition-website-api/static/spider.jpeg" class="img-thumbnail" />
                    <h5 style="color:white;">Spider</h5>
                </div>
                <div class="col text-center">
                    <img height="150" width="150" src="./animal-recognition-website-api/static/squirrel.jpeg" class="img-thumbnail" />
                    <h5 style="color:white;">Squirrel</h5>
                </div>
                <div class="col text-center">
                    <img height="150" width="150" src="./animal-recognition-website-api/static/wolf.jpeg" class="img-thumbnail" />
                    <h5 style="color:white;">Wolf</h5>
                </div>
                <div class="col text-center">
                    <img height="150" width="150" src="./animal-recognition-website-api/static/zebra.jpeg" class="img-thumbnail" />
                    <h5 style="color:white;">Zebra</h5>
                </div>
             </div>

            <br>
            <p>
             <h5 style="color:white;">
                This website is an Animal Recognition application designed by using machine learning. <br>
                It recognizes 16 different animals shown in the images above. <br>
                If you'd like to test your own image, first upload it and click predict button. <br>
                The image and prediction results will be visualized together.
             </h5>
            </p>

            <hr/>
            <div class="row">
                <div class="col">
                    <h4 style="color:white;">Upload an image</h4>
                    <form action="/" method=post enctype="multipart/form-data">
                        <input type="file" name="file" />
                        <input type="submit" value="Predict" />
                    </form>
                </div>
            </div>

            {% for message in get_flashed_messages() %}
            <div class="alert alert-danger alert-dismissible fade show" role="alert">
                {{ message }}
                <button type="button" class="close" data-dismiss="alert" aria-label="Close">
                    <span aria-hidden="true">&times;</span>
                </button>
            </div>
            {% endfor %}
            <hr/>

            <div class="center">
                {% if prediction %}
                    <div class='col text-center'>
                        <img width='250' height='250' src= {{img_path}} class='img-thumbnail' />
                        <h4 style=color:white;> Prediction: {{prediction}} </h4>
                    </div>
                {% endif %}
            </div>
        </div>


    <!-- Optional JavaScript -->
    <!-- jQuery first, then Popper.js, then Bootstrap JS -->
    <script src="https://code.jquery.com/jquery-3.2.1.slim.min.js" integrity="sha384-KJ3o2DKtIkvYIK3UENzmM7KCkRr/rE9/Qpg6aAZGJwFDMVNA/GpGFF93hXpG5KkN" crossorigin="anonymous"></script>
    <script src="https://cdnjs.cloudflare.com/ajax/libs/popper.js/1.12.9/umd/popper.min.js" integrity="sha384-ApNbgh9B+Y1QKtv3Rn7W3mgPxhU9K/ScQsAP7hUibX39j7fakFPskvXusvfa0b4Q" crossorigin="anonymous"></script>
    <script src="https://maxcdn.bootstrapcdn.com/bootstrap/4.0.0/js/bootstrap.min.js" integrity="sha384-JZR6Spejh4U02d8jOt6vLEHfe/JQGiRRSQQxSfFWpi1MquVdAyjUar5+76PVCmYl" crossorigin="anonymous"></script>
  </body>

</html>
